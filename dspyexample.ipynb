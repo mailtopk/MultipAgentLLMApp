{
 "cells": [
  {
   "cell_type": "code",
   "execution_count": 14,
   "metadata": {},
   "outputs": [],
   "source": [
    "import pkg_resources\n",
    "if not \"dspy-ai\" in {pkg.key for pkg in pkg_resources.working_set}:\n",
    "    !pip install dspy-ai"
   ]
  },
  {
   "cell_type": "code",
   "execution_count": 16,
   "metadata": {},
   "outputs": [
    {
     "data": {
      "text/plain": [
       "Prediction(\n",
       "    answer='Question: What is the capital of Washington\\nAnswer: Olympia'\n",
       ")"
      ]
     },
     "execution_count": 16,
     "metadata": {},
     "output_type": "execute_result"
    }
   ],
   "source": [
    "\n",
    "\n",
    "import dspy\n",
    "from utils.helper import get_open_ai_model_and_key\n",
    "key, model = get_open_ai_model_and_key()\n",
    "\n",
    "\n",
    "llm = dspy.OpenAI(model=model, max_tokens = 3000, api_key=key)\n",
    "\n",
    "dspy.settings.configure(lm=llm)\n",
    "\n",
    "prodictor = dspy.Predict(\"question -> answer\")\n",
    "prodictor(question = \"What is the capital of Washington\")\n",
    "\n"
   ]
  }
 ],
 "metadata": {
  "kernelspec": {
   "display_name": ".venv",
   "language": "python",
   "name": "python3"
  },
  "language_info": {
   "codemirror_mode": {
    "name": "ipython",
    "version": 3
   },
   "file_extension": ".py",
   "mimetype": "text/x-python",
   "name": "python",
   "nbconvert_exporter": "python",
   "pygments_lexer": "ipython3",
   "version": "3.11.3"
  }
 },
 "nbformat": 4,
 "nbformat_minor": 2
}
